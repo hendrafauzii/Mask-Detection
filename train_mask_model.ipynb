{
 "cells": [
  {
   "cell_type": "code",
   "execution_count": null,
   "metadata": {
    "id": "Ibznqsc7Qmr6"
   },
   "outputs": [],
   "source": [
    "import os\n",
    "import tensorflow as tf\n",
    "import matplotlib.pyplot as plt\n",
    "from tensorflow.keras.preprocessing.image import ImageDataGenerator\n",
    "from tensorflow.keras.callbacks import EarlyStopping\n",
    "from tensorflow.keras.applications.densenet import DenseNet201"
   ]
  },
  {
   "cell_type": "code",
   "execution_count": null,
   "metadata": {
    "colab": {
     "base_uri": "https://localhost:8080/"
    },
    "id": "hZ631zFyRufQ",
    "outputId": "3ec3a45d-839d-4bf2-cbe2-bb1e8b3f3853"
   },
   "outputs": [],
   "source": [
    "path_dataset = 'FaceMaskDataset\\Train'\n",
    "os.listdir(path_dataset)"
   ]
  },
  {
   "cell_type": "code",
   "execution_count": null,
   "metadata": {
    "colab": {
     "base_uri": "https://localhost:8080/"
    },
    "id": "s5p_PzCdR4BQ",
    "outputId": "b31c2233-6aab-46e6-bb1e-25063d4a72a0"
   },
   "outputs": [],
   "source": [
    "print('total WithMask images  :', \n",
    "      len(os.listdir(path_dataset + '/WithMask')))\n",
    "print('total WithoutMask images :', \n",
    "      len(os.listdir(path_dataset + '/WithoutMask')))"
   ]
  },
  {
   "cell_type": "markdown",
   "metadata": {
    "id": "Rh4b5igzSbcZ"
   },
   "source": [
    "**Image Generator**"
   ]
  },
  {
   "cell_type": "code",
   "execution_count": null,
   "metadata": {
    "colab": {
     "base_uri": "https://localhost:8080/"
    },
    "id": "2FuI6sXkSeyf",
    "outputId": "bbba2914-ce2a-4c60-cca2-0c8d98527a99"
   },
   "outputs": [],
   "source": [
    "dataset_dir = os.path.join(path_dataset)\n",
    "\n",
    "train_datagen = ImageDataGenerator(\n",
    "    rescale = 1./255,\n",
    "    rotation_range = 20,\n",
    "    zoom_range = 0.2,\n",
    "    shear_range = 0.2,\n",
    "    fill_mode = 'nearest',\n",
    "    validation_split = 0.2\n",
    ")\n",
    "\n",
    "valid_datagen = ImageDataGenerator(\n",
    "    rescale = 1./255,\n",
    "    validation_split = 0.2\n",
    ")\n",
    "\n",
    "train_generator = train_datagen.flow_from_directory(\n",
    "    dataset_dir,\n",
    "    target_size = (50, 50),\n",
    "    batch_size = 128,\n",
    "    class_mode = 'binary',\n",
    "    color_mode = 'rgb',\n",
    "    subset = 'training'\n",
    ")\n",
    "\n",
    "valid_generator = valid_datagen.flow_from_directory(\n",
    "    dataset_dir,\n",
    "    target_size = (50, 50),\n",
    "    batch_size = 128,\n",
    "    class_mode = 'binary',\n",
    "    color_mode = 'rgb',\n",
    "    subset = 'validation'\n",
    ")"
   ]
  },
  {
   "cell_type": "markdown",
   "metadata": {
    "id": "HSumfWCATNy4"
   },
   "source": [
    "**Callbacks**"
   ]
  },
  {
   "cell_type": "code",
   "execution_count": null,
   "metadata": {
    "id": "WV6npjSbTPvu"
   },
   "outputs": [],
   "source": [
    "class myCallback(tf.keras.callbacks.Callback):\n",
    "    def on_epoch_end(self, epoch, logs={}):\n",
    "        if (logs.get('val_accuracy') > 0.95):\n",
    "            print(\"\\nAccuracy Validasi telah mencapai > 95%!\")\n",
    "            self.model.stop_training = True\n",
    "\n",
    "callbacks = myCallback()\n",
    "\n",
    "es = EarlyStopping(monitor='val_accuracy', mode='max', verbose=1, patience=5)"
   ]
  },
  {
   "cell_type": "markdown",
   "metadata": {
    "id": "BlqoARaBTWIg"
   },
   "source": [
    "**Modeling**"
   ]
  },
  {
   "cell_type": "code",
   "execution_count": null,
   "metadata": {
    "colab": {
     "base_uri": "https://localhost:8080/"
    },
    "id": "nCgDVMDHTYJm",
    "outputId": "11cc70a8-01ff-4d97-c43a-0a51d4e4e9a7"
   },
   "outputs": [],
   "source": [
    "model = tf.keras.models.Sequential([\n",
    "    DenseNet201(weights='imagenet', include_top=False, input_shape=(50,50,3)),\n",
    "    tf.keras.layers.GlobalAveragePooling2D(),\n",
    "    tf.keras.layers.Flatten(), \n",
    "    tf.keras.layers.Dense(300, activation='relu'),\n",
    "    tf.keras.layers.Dropout(0.5),\n",
    "    tf.keras.layers.Dense(100, activation='relu'),\n",
    "    tf.keras.layers.Dropout(0.5),\n",
    "    tf.keras.layers.Dense(1, activation='sigmoid') \n",
    "])\n",
    "\n",
    "model.compile(loss = 'binary_crossentropy',\n",
    "              optimizer = 'adam',\n",
    "              metrics = ['accuracy'])\n",
    "\n",
    "model.layers[0].trainable = False\n",
    "\n",
    "model.summary()"
   ]
  },
  {
   "cell_type": "code",
   "execution_count": null,
   "metadata": {
    "colab": {
     "base_uri": "https://localhost:8080/",
     "height": 413
    },
    "id": "5hmI3mZ5Yigp",
    "outputId": "851285bd-34d0-4f0b-df9d-53aa4dc95ea4"
   },
   "outputs": [],
   "source": [
    "hist = model.fit(train_generator,\n",
    "                 epochs = 10,\n",
    "                 validation_data = valid_generator,\n",
    "                 callbacks = [es],\n",
    "                 verbose = 1)"
   ]
  },
  {
   "cell_type": "markdown",
   "metadata": {
    "id": "pqM1QusbTb6F"
   },
   "source": [
    "**Plot Loss and Accuracy**"
   ]
  },
  {
   "cell_type": "code",
   "execution_count": null,
   "metadata": {
    "id": "EgE_kUdlTeS6"
   },
   "outputs": [],
   "source": [
    "fig, ax = plt.subplots(1, 2, figsize=(10,4))\n",
    "ax[0].plot(hist.history['loss'], label='Data Training')\n",
    "ax[0].plot(hist.history['val_loss'], label='Data Testing')\n",
    "ax[0].set_xlabel('Epoch')\n",
    "ax[0].set_ylabel('Loss')\n",
    "ax[0].legend()\n",
    "\n",
    "ax[1].plot(hist.history['accuracy'], label='Data Training')\n",
    "ax[1].plot(hist.history['val_accuracy'], label='Data Testing')\n",
    "ax[1].set_xlabel('Epoch')\n",
    "ax[1].set_ylabel('Accuracy')\n",
    "ax[1].legend()\n",
    "\n",
    "plt.tight_layout()\n",
    "plt.show()"
   ]
  },
  {
   "cell_type": "markdown",
   "metadata": {},
   "source": [
    "**Save Model HDF5 Format**"
   ]
  },
  {
   "cell_type": "code",
   "execution_count": null,
   "metadata": {},
   "outputs": [],
   "source": [
    "model.save('mask_model/mask_model.h5')"
   ]
  },
  {
   "cell_type": "markdown",
   "metadata": {
    "id": "zm5R9SN_Tf7f"
   },
   "source": [
    "**Save Model to TF-Lite**"
   ]
  },
  {
   "cell_type": "code",
   "execution_count": null,
   "metadata": {
    "id": "QSVGnKrLTkEM"
   },
   "outputs": [],
   "source": [
    "converter = tf.lite.TFLiteConverter.from_keras_model(model)\n",
    "tflite_model = converter.convert()\n",
    "\n",
    "with tf.io.gfile.GFile('mask_model/mask_model.tflite', 'wb') as f:\n",
    "  f.write(tflite_model)"
   ]
  }
 ],
 "metadata": {
  "accelerator": "GPU",
  "colab": {
   "collapsed_sections": [],
   "name": "Submission_ProyekAkhir_Dicoding.ipynb",
   "provenance": []
  },
  "interpreter": {
   "hash": "4ad7410e16a73535f2628a2d031bcd308917cc320f2776bb6e583c9ffe96f929"
  },
  "kernelspec": {
   "display_name": "Python 3.7.8 64-bit ('venv': venv)",
   "name": "python3"
  },
  "language_info": {
   "codemirror_mode": {
    "name": "ipython",
    "version": 3
   },
   "file_extension": ".py",
   "mimetype": "text/x-python",
   "name": "python",
   "nbconvert_exporter": "python",
   "pygments_lexer": "ipython3",
   "version": "3.7.8"
  }
 },
 "nbformat": 4,
 "nbformat_minor": 1
}
