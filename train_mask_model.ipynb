{
 "cells": [
  {
   "cell_type": "code",
   "execution_count": 9,
   "source": [
    "import os\r\n",
    "import tensorflow as tf\r\n",
    "import matplotlib.pyplot as plt\r\n",
    "from tensorflow.keras.preprocessing.image import ImageDataGenerator\r\n",
    "from tensorflow.keras.callbacks import EarlyStopping\r\n",
    "from tensorflow.keras.applications.densenet import DenseNet201"
   ],
   "outputs": [],
   "metadata": {
    "id": "Ibznqsc7Qmr6"
   }
  },
  {
   "cell_type": "code",
   "execution_count": 10,
   "source": [
    "path_dataset = 'E:\\Datasets\\FaceMaskDataset\\Train'\r\n",
    "os.listdir(path_dataset)"
   ],
   "outputs": [
    {
     "output_type": "execute_result",
     "data": {
      "text/plain": [
       "['WithMask', 'WithoutMask']"
      ]
     },
     "metadata": {},
     "execution_count": 10
    }
   ],
   "metadata": {
    "colab": {
     "base_uri": "https://localhost:8080/"
    },
    "id": "hZ631zFyRufQ",
    "outputId": "3ec3a45d-839d-4bf2-cbe2-bb1e8b3f3853"
   }
  },
  {
   "cell_type": "code",
   "execution_count": 11,
   "source": [
    "print('total WithMask images  :', \r\n",
    "      len(os.listdir(path_dataset + '/WithMask')))\r\n",
    "print('total WithoutMask images :', \r\n",
    "      len(os.listdir(path_dataset + '/WithoutMask')))"
   ],
   "outputs": [
    {
     "output_type": "stream",
     "name": "stdout",
     "text": [
      "total WithMask images  : 5400\n",
      "total WithoutMask images : 5400\n"
     ]
    }
   ],
   "metadata": {
    "colab": {
     "base_uri": "https://localhost:8080/"
    },
    "id": "s5p_PzCdR4BQ",
    "outputId": "b31c2233-6aab-46e6-bb1e-25063d4a72a0"
   }
  },
  {
   "cell_type": "markdown",
   "source": [
    "**Image Generator**"
   ],
   "metadata": {
    "id": "Rh4b5igzSbcZ"
   }
  },
  {
   "cell_type": "code",
   "execution_count": 13,
   "source": [
    "dataset_dir = os.path.join(path_dataset)\r\n",
    "\r\n",
    "train_datagen = ImageDataGenerator(\r\n",
    "    rescale = 1./255,\r\n",
    "    rotation_range = 20,\r\n",
    "    zoom_range = 0.2,\r\n",
    "    shear_range = 0.2,\r\n",
    "    fill_mode = 'nearest',\r\n",
    "    validation_split = 0.2\r\n",
    ")\r\n",
    "\r\n",
    "valid_datagen = ImageDataGenerator(\r\n",
    "    rescale = 1./255,\r\n",
    "    validation_split = 0.2\r\n",
    ")\r\n",
    "\r\n",
    "train_generator = train_datagen.flow_from_directory(\r\n",
    "    dataset_dir,\r\n",
    "    target_size = (50, 50),\r\n",
    "    batch_size = 128,\r\n",
    "    class_mode = 'binary',\r\n",
    "    color_mode = 'rgb',\r\n",
    "    subset = 'training'\r\n",
    ")\r\n",
    "\r\n",
    "valid_generator = valid_datagen.flow_from_directory(\r\n",
    "    dataset_dir,\r\n",
    "    target_size = (50, 50),\r\n",
    "    batch_size = 128,\r\n",
    "    class_mode = 'binary',\r\n",
    "    color_mode = 'rgb',\r\n",
    "    subset = 'validation'\r\n",
    ")"
   ],
   "outputs": [
    {
     "output_type": "stream",
     "name": "stdout",
     "text": [
      "Found 8640 images belonging to 2 classes.\n",
      "Found 2160 images belonging to 2 classes.\n"
     ]
    }
   ],
   "metadata": {
    "colab": {
     "base_uri": "https://localhost:8080/"
    },
    "id": "2FuI6sXkSeyf",
    "outputId": "bbba2914-ce2a-4c60-cca2-0c8d98527a99"
   }
  },
  {
   "cell_type": "markdown",
   "source": [
    "**Callbacks**"
   ],
   "metadata": {
    "id": "HSumfWCATNy4"
   }
  },
  {
   "cell_type": "code",
   "execution_count": 20,
   "source": [
    "class myCallback(tf.keras.callbacks.Callback):\r\n",
    "    def on_epoch_end(self, epoch, logs={}):\r\n",
    "        if (logs.get('val_accuracy') > 0.95):\r\n",
    "            print(\"\\nAccuracy Validasi telah mencapai > 95%!\")\r\n",
    "            self.model.stop_training = True\r\n",
    "\r\n",
    "callbacks = myCallback()\r\n",
    "\r\n",
    "es = EarlyStopping(monitor='val_accuracy', mode='max', verbose=1, patience=5)"
   ],
   "outputs": [],
   "metadata": {
    "id": "WV6npjSbTPvu"
   }
  },
  {
   "cell_type": "markdown",
   "source": [
    "**Modeling**"
   ],
   "metadata": {
    "id": "BlqoARaBTWIg"
   }
  },
  {
   "cell_type": "code",
   "execution_count": 21,
   "source": [
    "model = tf.keras.models.Sequential([\r\n",
    "    DenseNet201(weights='imagenet', include_top=False, input_shape=(50,50,3)),\r\n",
    "    tf.keras.layers.GlobalAveragePooling2D(),\r\n",
    "    tf.keras.layers.Flatten(), \r\n",
    "    tf.keras.layers.Dense(300, activation='relu'),\r\n",
    "    tf.keras.layers.Dropout(0.5),\r\n",
    "    tf.keras.layers.Dense(100, activation='relu'),\r\n",
    "    tf.keras.layers.Dropout(0.5),\r\n",
    "    tf.keras.layers.Dense(1, activation='sigmoid') \r\n",
    "])\r\n",
    "\r\n",
    "model.compile(loss = 'binary_crossentropy',\r\n",
    "              optimizer = 'adam',\r\n",
    "              metrics = ['accuracy'])\r\n",
    "\r\n",
    "model.layers[0].trainable = False\r\n",
    "\r\n",
    "model.summary()"
   ],
   "outputs": [
    {
     "output_type": "stream",
     "name": "stdout",
     "text": [
      "Model: \"sequential_3\"\n",
      "_________________________________________________________________\n",
      "Layer (type)                 Output Shape              Param #   \n",
      "=================================================================\n",
      "densenet201 (Functional)     (None, 1, 1, 1920)        18321984  \n",
      "_________________________________________________________________\n",
      "global_average_pooling2d_3 ( (None, 1920)              0         \n",
      "_________________________________________________________________\n",
      "flatten_3 (Flatten)          (None, 1920)              0         \n",
      "_________________________________________________________________\n",
      "dense_9 (Dense)              (None, 300)               576300    \n",
      "_________________________________________________________________\n",
      "dropout_6 (Dropout)          (None, 300)               0         \n",
      "_________________________________________________________________\n",
      "dense_10 (Dense)             (None, 100)               30100     \n",
      "_________________________________________________________________\n",
      "dropout_7 (Dropout)          (None, 100)               0         \n",
      "_________________________________________________________________\n",
      "dense_11 (Dense)             (None, 1)                 101       \n",
      "=================================================================\n",
      "Total params: 18,928,485\n",
      "Trainable params: 606,501\n",
      "Non-trainable params: 18,321,984\n",
      "_________________________________________________________________\n"
     ]
    }
   ],
   "metadata": {
    "colab": {
     "base_uri": "https://localhost:8080/"
    },
    "id": "nCgDVMDHTYJm",
    "outputId": "11cc70a8-01ff-4d97-c43a-0a51d4e4e9a7"
   }
  },
  {
   "cell_type": "code",
   "execution_count": 22,
   "source": [
    "hist = model.fit(train_generator,\r\n",
    "                 epochs = 50,\r\n",
    "                 validation_data = valid_generator,\r\n",
    "                 callbacks = [es],\r\n",
    "                 verbose = 1)"
   ],
   "outputs": [
    {
     "output_type": "stream",
     "name": "stdout",
     "text": [
      "Epoch 1/50\n",
      "68/68 [==============================] - 437s 6s/step - loss: 0.1434 - accuracy: 0.9461 - val_loss: 16.0991 - val_accuracy: 0.6185\n",
      "Epoch 2/50\n",
      "68/68 [==============================] - 401s 6s/step - loss: 0.0383 - accuracy: 0.9887 - val_loss: 0.0687 - val_accuracy: 0.9856\n",
      "Epoch 3/50\n",
      "68/68 [==============================] - 419s 6s/step - loss: 0.0220 - accuracy: 0.9941 - val_loss: 0.5071 - val_accuracy: 0.9176\n",
      "Epoch 4/50\n",
      "68/68 [==============================] - 400s 6s/step - loss: 0.0167 - accuracy: 0.9943 - val_loss: 0.0753 - val_accuracy: 0.9810\n",
      "Epoch 5/50\n",
      "68/68 [==============================] - 394s 6s/step - loss: 0.0148 - accuracy: 0.9961 - val_loss: 0.0192 - val_accuracy: 0.9931\n",
      "Epoch 6/50\n",
      "68/68 [==============================] - 408s 6s/step - loss: 0.0093 - accuracy: 0.9963 - val_loss: 0.0179 - val_accuracy: 0.9954\n",
      "Epoch 7/50\n",
      "68/68 [==============================] - 416s 6s/step - loss: 0.0138 - accuracy: 0.9966 - val_loss: 0.0110 - val_accuracy: 0.9958\n",
      "Epoch 8/50\n",
      "68/68 [==============================] - 397s 6s/step - loss: 0.0101 - accuracy: 0.9972 - val_loss: 0.0401 - val_accuracy: 0.9903\n",
      "Epoch 9/50\n",
      "68/68 [==============================] - 421s 6s/step - loss: 0.0079 - accuracy: 0.9977 - val_loss: 0.0151 - val_accuracy: 0.9954\n",
      "Epoch 10/50\n",
      "68/68 [==============================] - 422s 6s/step - loss: 0.0089 - accuracy: 0.9976 - val_loss: 0.0169 - val_accuracy: 0.9954\n",
      "Epoch 11/50\n",
      "68/68 [==============================] - 425s 6s/step - loss: 0.0079 - accuracy: 0.9978 - val_loss: 0.0970 - val_accuracy: 0.9819\n",
      "Epoch 12/50\n",
      "68/68 [==============================] - 405s 6s/step - loss: 0.0088 - accuracy: 0.9983 - val_loss: 0.0066 - val_accuracy: 0.9986\n",
      "Epoch 13/50\n",
      "68/68 [==============================] - 407s 6s/step - loss: 0.0072 - accuracy: 0.9980 - val_loss: 0.0148 - val_accuracy: 0.9972\n",
      "Epoch 14/50\n",
      "68/68 [==============================] - 403s 6s/step - loss: 0.0085 - accuracy: 0.9977 - val_loss: 0.0306 - val_accuracy: 0.9912\n",
      "Epoch 15/50\n",
      "68/68 [==============================] - 399s 6s/step - loss: 0.0050 - accuracy: 0.9985 - val_loss: 0.0054 - val_accuracy: 0.9981\n",
      "Epoch 16/50\n",
      "68/68 [==============================] - 405s 6s/step - loss: 0.0050 - accuracy: 0.9985 - val_loss: 0.0029 - val_accuracy: 0.9991\n",
      "Epoch 17/50\n",
      "68/68 [==============================] - 407s 6s/step - loss: 0.0029 - accuracy: 0.9990 - val_loss: 0.1113 - val_accuracy: 0.9778\n",
      "Epoch 18/50\n",
      "68/68 [==============================] - 438s 6s/step - loss: 0.0044 - accuracy: 0.9988 - val_loss: 0.0258 - val_accuracy: 0.9944\n",
      "Epoch 19/50\n",
      "68/68 [==============================] - 414s 6s/step - loss: 0.0020 - accuracy: 0.9992 - val_loss: 0.0103 - val_accuracy: 0.9963\n",
      "Epoch 20/50\n",
      "68/68 [==============================] - 419s 6s/step - loss: 0.0055 - accuracy: 0.9985 - val_loss: 0.0201 - val_accuracy: 0.9907\n",
      "Epoch 21/50\n",
      "68/68 [==============================] - 413s 6s/step - loss: 0.0052 - accuracy: 0.9983 - val_loss: 0.0415 - val_accuracy: 0.9903\n",
      "Epoch 00021: early stopping\n"
     ]
    }
   ],
   "metadata": {
    "colab": {
     "base_uri": "https://localhost:8080/",
     "height": 413
    },
    "id": "5hmI3mZ5Yigp",
    "outputId": "851285bd-34d0-4f0b-df9d-53aa4dc95ea4"
   }
  },
  {
   "cell_type": "markdown",
   "source": [
    "**Plot Loss and Accuracy**"
   ],
   "metadata": {
    "id": "pqM1QusbTb6F"
   }
  },
  {
   "cell_type": "code",
   "execution_count": 23,
   "source": [
    "fig, ax = plt.subplots(1, 2, figsize=(10,4))\r\n",
    "ax[0].plot(hist.history['loss'], label='Data Training')\r\n",
    "ax[0].plot(hist.history['val_loss'], label='Data Testing')\r\n",
    "ax[0].set_xlabel('Epoch')\r\n",
    "ax[0].set_ylabel('Loss')\r\n",
    "ax[0].legend()\r\n",
    "\r\n",
    "ax[1].plot(hist.history['accuracy'], label='Data Training')\r\n",
    "ax[1].plot(hist.history['val_accuracy'], label='Data Testing')\r\n",
    "ax[1].set_xlabel('Epoch')\r\n",
    "ax[1].set_ylabel('Accuracy')\r\n",
    "ax[1].legend()\r\n",
    "\r\n",
    "plt.tight_layout()\r\n",
    "plt.show()"
   ],
   "outputs": [
    {
     "output_type": "display_data",
     "data": {
      "text/plain": [
       "<Figure size 720x288 with 2 Axes>"
      ],
      "image/png": "[encoded data removed]"
     },
     "metadata": {
      "needs_background": "light"
     }
    }
   ],
   "metadata": {
    "id": "EgE_kUdlTeS6"
   }
  },
  {
   "cell_type": "markdown",
   "source": [
    "**Save Model HDF5 Format**"
   ],
   "metadata": {}
  },
  {
   "cell_type": "code",
   "execution_count": 24,
   "source": [
    "model.save('mask_model.h5')"
   ],
   "outputs": [],
   "metadata": {}
  },
  {
   "cell_type": "markdown",
   "source": [
    "**Save Model to TF-Lite**"
   ],
   "metadata": {
    "id": "zm5R9SN_Tf7f"
   }
  },
  {
   "cell_type": "code",
   "execution_count": 25,
   "source": [
    "converter = tf.lite.TFLiteConverter.from_keras_model(model)\r\n",
    "tflite_model = converter.convert()\r\n",
    "\r\n",
    "with tf.io.gfile.GFile('mask_model.tflite', 'wb') as f:\r\n",
    "  f.write(tflite_model)"
   ],
   "outputs": [
    {
     "output_type": "stream",
     "name": "stdout",
     "text": [
      "INFO:tensorflow:Assets written to: C:\\Users\\Acer\\AppData\\Local\\Temp\\tmp1coq4b84\\assets\n"
     ]
    }
   ],
   "metadata": {
    "id": "QSVGnKrLTkEM"
   }
  }
 ],
 "metadata": {
  "accelerator": "GPU",
  "colab": {
   "collapsed_sections": [],
   "name": "Submission_ProyekAkhir_Dicoding.ipynb",
   "provenance": []
  },
  "kernelspec": {
   "display_name": "Python 3",
   "language": "python",
   "name": "python3"
  },
  "language_info": {
   "codemirror_mode": {
    "name": "ipython",
    "version": 3
   },
   "file_extension": ".py",
   "mimetype": "text/x-python",
   "name": "python",
   "nbconvert_exporter": "python",
   "pygments_lexer": "ipython3",
   "version": "3.8.7"
  }
 },
 "nbformat": 4,
 "nbformat_minor": 1
}